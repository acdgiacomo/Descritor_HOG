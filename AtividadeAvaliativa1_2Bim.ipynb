{
  "nbformat": 4,
  "nbformat_minor": 0,
  "metadata": {
    "colab": {
      "provenance": []
    },
    "kernelspec": {
      "name": "python3",
      "display_name": "Python 3"
    },
    "language_info": {
      "name": "python"
    }
  },
  "cells": [
    {
      "cell_type": "code",
      "execution_count": 5,
      "metadata": {
        "colab": {
          "base_uri": "https://localhost:8080/"
        },
        "id": "LbvBZWbDNSGl",
        "outputId": "f59d9f2b-e5fd-4db7-a0ab-da1146c3d020"
      },
      "outputs": [
        {
          "output_type": "stream",
          "name": "stdout",
          "text": [
            "Drive already mounted at /content/drive; to attempt to forcibly remount, call drive.mount(\"/content/drive\", force_remount=True).\n"
          ]
        }
      ],
      "source": [
        "from google.colab import drive\n",
        "\n",
        "drive.mount('/content/drive')"
      ]
    },
    {
      "cell_type": "code",
      "source": [
        "!pip install python-docx"
      ],
      "metadata": {
        "colab": {
          "base_uri": "https://localhost:8080/"
        },
        "id": "GXDDCIrENcJG",
        "outputId": "8ce2c41a-89e6-4170-f8b9-44715a419bb3"
      },
      "execution_count": 6,
      "outputs": [
        {
          "output_type": "stream",
          "name": "stdout",
          "text": [
            "Looking in indexes: https://pypi.org/simple, https://us-python.pkg.dev/colab-wheels/public/simple/\n",
            "Requirement already satisfied: python-docx in /usr/local/lib/python3.10/dist-packages (0.8.11)\n",
            "Requirement already satisfied: lxml>=2.3.2 in /usr/local/lib/python3.10/dist-packages (from python-docx) (4.9.2)\n"
          ]
        }
      ]
    },
    {
      "cell_type": "code",
      "source": [
        "from skimage.feature import hog\n",
        "from sklearn.model_selection import train_test_split\n",
        "from sklearn.svm import LinearSVC\n",
        "from sklearn.metrics import accuracy_score, precision_score, confusion_matrix\n",
        "import os\n",
        "import cv2\n",
        "import numpy as np"
      ],
      "metadata": {
        "id": "TrudDp0xNeI1"
      },
      "execution_count": 7,
      "outputs": []
    },
    {
      "cell_type": "code",
      "source": [
        "image_folder = \"/content/drive/MyDrive/UP/VisaoComputacional/AtividadesAvaliativas/AtvAvaliativa1_2Bim/img_fruta\"\n",
        "folders = ['maça', 'limao', 'macadamia', 'blueberry', 'baunilha']\n",
        "\n",
        "descriptors = []\n",
        "\n",
        "for folder in folders:\n",
        "    folder_path = os.path.join(image_folder, folder)\n",
        "    image_files = [file for file in os.listdir(folder_path) if os.path.isfile(os.path.join(folder_path, file))]\n",
        "\n",
        "    if not image_files:\n",
        "        print(\"The folder {} is empty. Continuing to the next folder.\".format(folder))\n",
        "        continue\n",
        "\n",
        "    for image_file in image_files:\n",
        "        image_path = os.path.join(folder_path, image_file)\n",
        "        try:\n",
        "            image = cv2.imread(image_path)\n",
        "            if image is None:\n",
        "                raise Exception(\"Error reading the image {}. Continuing to the next image.\".format(image_path))\n",
        "\n",
        "            gray = cv2.cvtColor(image, cv2.COLOR_BGR2GRAY)\n",
        "            resized = cv2.resize(gray, (64, 128))\n",
        "\n",
        "            block_size = (16, 16)\n",
        "            block_stride = (8, 8)\n",
        "            cell_size = (8, 8)\n",
        "            num_bins = 9\n",
        "\n",
        "            hog = cv2.HOGDescriptor((64, 128), block_size, block_stride, cell_size, num_bins)\n",
        "\n",
        "            descriptor = hog.compute(resized)\n",
        "\n",
        "            descriptors.append(descriptor)\n",
        "        except Exception as e:\n",
        "            print(str(e))\n"
      ],
      "metadata": {
        "id": "pDsmfAx2NeX2"
      },
      "execution_count": 8,
      "outputs": []
    },
    {
      "cell_type": "code",
      "source": [
        "import docx\n",
        "from docx.shared import Pt\n",
        "\n",
        "output_file = \"/content/drive/MyDrive/UP/VisaoComputacional/AtividadesAvaliativas/AtvAvaliativa1_2Bim/img_fruta/descritores_frutas.docx\"\n",
        "\n",
        "processed_folders = set()\n",
        "\n",
        "doc = docx.Document()\n",
        "\n",
        "for i in range(len(folders)):\n",
        "    folder = folders[i]\n",
        "    descriptor = descriptors[i]\n",
        "    label = folder.split('/')[-1]\n",
        "\n",
        "    if label in processed_folders:\n",
        "        continue\n",
        "\n",
        "    processed_folders.add(label)\n",
        "\n",
        "    doc.add_paragraph(\"Descritor da primeira imagem da pasta {}: \".format(label))\n",
        "    doc.add_paragraph(','.join(map(str, descriptor)))\n",
        "\n",
        "doc.save(output_file)"
      ],
      "metadata": {
        "id": "1_0_ZWuhNejK"
      },
      "execution_count": 9,
      "outputs": []
    },
    {
      "cell_type": "code",
      "source": [
        "import docx\n",
        "from docx.shared import Pt\n",
        "from sklearn.model_selection import train_test_split\n",
        "from sklearn.svm import LinearSVC\n",
        "\n",
        "labels = []\n",
        "for i, folder in enumerate(folders):\n",
        "    num_images = len(os.listdir(os.path.join(image_folder, folder)))\n",
        "    labels.extend([folder] * num_images)\n",
        "\n",
        "X_train, X_test, y_train, y_test = train_test_split(descriptors, labels, test_size=0.2, random_state=42)\n",
        "\n",
        "svm = LinearSVC()\n",
        "svm.fit(X_train, y_train)\n",
        "\n",
        "y_predicted = svm.predict(X_test)\n",
        "\n",
        "doc = docx.Document()\n",
        "\n",
        "for true_label, pred_label in zip(y_test, y_predicted):\n",
        "    doc.add_paragraph(\"Fruta Correta: {} ----> Fruta predita: {}\".format(true_label, pred_label))\n",
        "\n",
        "output_file = \"/content/drive/MyDrive/UP/VisaoComputacional/AtividadesAvaliativas/AtvAvaliativa1_2Bim/img_fruta/results.docx\"\n",
        "doc.save(output_file)"
      ],
      "metadata": {
        "id": "TcD2a_QwNesh"
      },
      "execution_count": 10,
      "outputs": []
    },
    {
      "cell_type": "code",
      "source": [
        "import docx\n",
        "from docx.shared import Pt\n",
        "from sklearn.metrics import accuracy_score, precision_score, confusion_matrix\n",
        "\n",
        "accuracy = accuracy_score(y_test, y_predicted)\n",
        "precision = precision_score(y_test, y_predicted, average='weighted')\n",
        "confusion_mat = confusion_matrix(y_test, y_predicted)\n",
        "\n",
        "doc = docx.Document()\n",
        "\n",
        "doc.add_paragraph(\"Acuracia (%): {:.2f}%\".format(accuracy * 100))\n",
        "doc.add_paragraph(\"Precisão (%): {:.2f}%\".format(precision * 100))\n",
        "doc.add_paragraph(\"Matriz de confusão:\")\n",
        "for row in confusion_mat:\n",
        "    doc.add_paragraph(\" \".join(str(val) for val in row))\n",
        "\n",
        "output_file = \"/content/drive/MyDrive/UP/VisaoComputacional/AtividadesAvaliativas/AtvAvaliativa1_2Bim/img_fruta/metricas.docx\"\n",
        "doc.save(output_file)"
      ],
      "metadata": {
        "id": "Ec73oHhrNe1f"
      },
      "execution_count": 11,
      "outputs": []
    },
    {
      "cell_type": "markdown",
      "source": [],
      "metadata": {
        "id": "TEnLtD2-Nc32"
      }
    }
  ]
}